{
 "cells": [
  {
   "cell_type": "code",
   "execution_count": 6,
   "metadata": {
    "collapsed": true,
    "pycharm": {
     "name": "#%%\n"
    }
   },
   "outputs": [],
   "source": [
    "# grab dependencies\n",
    "import pandas as pd\n"
   ]
  },
  {
   "cell_type": "code",
   "execution_count": 17,
   "outputs": [
    {
     "data": {
      "text/plain": "        review_id  star_rating  helpful_votes  total_votes vine  \\\n0   RTIS3L2M1F5SM            5              0            0    N   \n1   R1ZV7R40OLHKD            5              0            0    N   \n2  R3BH071QLH8QMC            1              0            1    N   \n3  R127K9NTSXA2YH            3              0            0    N   \n4  R32ZWUXDJPW27Q            4              0            0    N   \n\n  verified_purchase  \n0                 Y  \n1                 Y  \n2                 Y  \n3                 Y  \n4                 Y  ",
      "text/html": "<div>\n<style scoped>\n    .dataframe tbody tr th:only-of-type {\n        vertical-align: middle;\n    }\n\n    .dataframe tbody tr th {\n        vertical-align: top;\n    }\n\n    .dataframe thead th {\n        text-align: right;\n    }\n</style>\n<table border=\"1\" class=\"dataframe\">\n  <thead>\n    <tr style=\"text-align: right;\">\n      <th></th>\n      <th>review_id</th>\n      <th>star_rating</th>\n      <th>helpful_votes</th>\n      <th>total_votes</th>\n      <th>vine</th>\n      <th>verified_purchase</th>\n    </tr>\n  </thead>\n  <tbody>\n    <tr>\n      <th>0</th>\n      <td>RTIS3L2M1F5SM</td>\n      <td>5</td>\n      <td>0</td>\n      <td>0</td>\n      <td>N</td>\n      <td>Y</td>\n    </tr>\n    <tr>\n      <th>1</th>\n      <td>R1ZV7R40OLHKD</td>\n      <td>5</td>\n      <td>0</td>\n      <td>0</td>\n      <td>N</td>\n      <td>Y</td>\n    </tr>\n    <tr>\n      <th>2</th>\n      <td>R3BH071QLH8QMC</td>\n      <td>1</td>\n      <td>0</td>\n      <td>1</td>\n      <td>N</td>\n      <td>Y</td>\n    </tr>\n    <tr>\n      <th>3</th>\n      <td>R127K9NTSXA2YH</td>\n      <td>3</td>\n      <td>0</td>\n      <td>0</td>\n      <td>N</td>\n      <td>Y</td>\n    </tr>\n    <tr>\n      <th>4</th>\n      <td>R32ZWUXDJPW27Q</td>\n      <td>4</td>\n      <td>0</td>\n      <td>0</td>\n      <td>N</td>\n      <td>Y</td>\n    </tr>\n  </tbody>\n</table>\n</div>"
     },
     "execution_count": 17,
     "metadata": {},
     "output_type": "execute_result"
    }
   ],
   "source": [
    "# read in the vine csv and create a dataframe to work with in pandas\n",
    "\n",
    "vine_df = pd.read_csv(\"vine.csv\")\n",
    "vine_df.head()\n"
   ],
   "metadata": {
    "collapsed": false,
    "pycharm": {
     "name": "#%%\n"
    }
   }
  },
  {
   "cell_type": "code",
   "execution_count": 51,
   "outputs": [
    {
     "data": {
      "text/plain": "review_id            1785997\nstar_rating          1785997\nhelpful_votes        1785997\ntotal_votes          1785997\nvine                 1785997\nverified_purchase    1785997\ndtype: int64"
     },
     "execution_count": 51,
     "metadata": {},
     "output_type": "execute_result"
    }
   ],
   "source": [
    "vine_df.count()"
   ],
   "metadata": {
    "collapsed": false,
    "pycharm": {
     "name": "#%%\n"
    }
   }
  },
  {
   "cell_type": "code",
   "execution_count": 18,
   "outputs": [
    {
     "data": {
      "text/plain": "          review_id  star_rating  helpful_votes  total_votes vine  \\\n55    R4PKAZRQJJX14            1             21           34    N   \n74   R2CI0Y288CC7E2            1             21           35    N   \n209  R127WEQY2FM1T3            1            147          175    N   \n289  R3EZ0EPYLDA34S            1             14           31    N   \n483  R2FJ94555FZH32            2             55           60    N   \n\n    verified_purchase  \n55                  N  \n74                  Y  \n209                 Y  \n289                 Y  \n483                 N  ",
      "text/html": "<div>\n<style scoped>\n    .dataframe tbody tr th:only-of-type {\n        vertical-align: middle;\n    }\n\n    .dataframe tbody tr th {\n        vertical-align: top;\n    }\n\n    .dataframe thead th {\n        text-align: right;\n    }\n</style>\n<table border=\"1\" class=\"dataframe\">\n  <thead>\n    <tr style=\"text-align: right;\">\n      <th></th>\n      <th>review_id</th>\n      <th>star_rating</th>\n      <th>helpful_votes</th>\n      <th>total_votes</th>\n      <th>vine</th>\n      <th>verified_purchase</th>\n    </tr>\n  </thead>\n  <tbody>\n    <tr>\n      <th>55</th>\n      <td>R4PKAZRQJJX14</td>\n      <td>1</td>\n      <td>21</td>\n      <td>34</td>\n      <td>N</td>\n      <td>N</td>\n    </tr>\n    <tr>\n      <th>74</th>\n      <td>R2CI0Y288CC7E2</td>\n      <td>1</td>\n      <td>21</td>\n      <td>35</td>\n      <td>N</td>\n      <td>Y</td>\n    </tr>\n    <tr>\n      <th>209</th>\n      <td>R127WEQY2FM1T3</td>\n      <td>1</td>\n      <td>147</td>\n      <td>175</td>\n      <td>N</td>\n      <td>Y</td>\n    </tr>\n    <tr>\n      <th>289</th>\n      <td>R3EZ0EPYLDA34S</td>\n      <td>1</td>\n      <td>14</td>\n      <td>31</td>\n      <td>N</td>\n      <td>Y</td>\n    </tr>\n    <tr>\n      <th>483</th>\n      <td>R2FJ94555FZH32</td>\n      <td>2</td>\n      <td>55</td>\n      <td>60</td>\n      <td>N</td>\n      <td>N</td>\n    </tr>\n  </tbody>\n</table>\n</div>"
     },
     "execution_count": 18,
     "metadata": {},
     "output_type": "execute_result"
    }
   ],
   "source": [
    "#create a new dataframe where the total votes are greater than or equal to 20\n",
    "\n",
    "total_20_df = vine_df[vine_df.total_votes >=20]\n",
    "total_20_df.head()"
   ],
   "metadata": {
    "collapsed": false,
    "pycharm": {
     "name": "#%%\n"
    }
   }
  },
  {
   "cell_type": "code",
   "execution_count": 52,
   "outputs": [
    {
     "data": {
      "text/plain": "review_id            65379\nstar_rating          65379\nhelpful_votes        65379\ntotal_votes          65379\nvine                 65379\nverified_purchase    65379\ndtype: int64"
     },
     "execution_count": 52,
     "metadata": {},
     "output_type": "execute_result"
    }
   ],
   "source": [
    "total_20_df.count()"
   ],
   "metadata": {
    "collapsed": false,
    "pycharm": {
     "name": "#%%\n"
    }
   }
  },
  {
   "cell_type": "code",
   "execution_count": 79,
   "outputs": [
    {
     "data": {
      "text/plain": "          review_id  star_rating  helpful_votes  total_votes vine  \\\n55    R4PKAZRQJJX14            1             21           34    N   \n74   R2CI0Y288CC7E2            1             21           35    N   \n209  R127WEQY2FM1T3            1            147          175    N   \n483  R2FJ94555FZH32            2             55           60    N   \n537  R1U3AR67RE273L            1             51           65    N   \n\n    verified_purchase  \n55                  N  \n74                  Y  \n209                 Y  \n483                 N  \n537                 Y  ",
      "text/html": "<div>\n<style scoped>\n    .dataframe tbody tr th:only-of-type {\n        vertical-align: middle;\n    }\n\n    .dataframe tbody tr th {\n        vertical-align: top;\n    }\n\n    .dataframe thead th {\n        text-align: right;\n    }\n</style>\n<table border=\"1\" class=\"dataframe\">\n  <thead>\n    <tr style=\"text-align: right;\">\n      <th></th>\n      <th>review_id</th>\n      <th>star_rating</th>\n      <th>helpful_votes</th>\n      <th>total_votes</th>\n      <th>vine</th>\n      <th>verified_purchase</th>\n    </tr>\n  </thead>\n  <tbody>\n    <tr>\n      <th>55</th>\n      <td>R4PKAZRQJJX14</td>\n      <td>1</td>\n      <td>21</td>\n      <td>34</td>\n      <td>N</td>\n      <td>N</td>\n    </tr>\n    <tr>\n      <th>74</th>\n      <td>R2CI0Y288CC7E2</td>\n      <td>1</td>\n      <td>21</td>\n      <td>35</td>\n      <td>N</td>\n      <td>Y</td>\n    </tr>\n    <tr>\n      <th>209</th>\n      <td>R127WEQY2FM1T3</td>\n      <td>1</td>\n      <td>147</td>\n      <td>175</td>\n      <td>N</td>\n      <td>Y</td>\n    </tr>\n    <tr>\n      <th>483</th>\n      <td>R2FJ94555FZH32</td>\n      <td>2</td>\n      <td>55</td>\n      <td>60</td>\n      <td>N</td>\n      <td>N</td>\n    </tr>\n    <tr>\n      <th>537</th>\n      <td>R1U3AR67RE273L</td>\n      <td>1</td>\n      <td>51</td>\n      <td>65</td>\n      <td>N</td>\n      <td>Y</td>\n    </tr>\n  </tbody>\n</table>\n</div>"
     },
     "execution_count": 79,
     "metadata": {},
     "output_type": "execute_result"
    }
   ],
   "source": [
    "# create a new dataframe where helpful votes div by total votes equals >= 50%\n",
    "\n",
    "greater_50_df = total_20_df[total_20_df.helpful_votes / total_20_df.total_votes >= .5]\n",
    "greater_50_df.vine.value_counts()\n"
   ],
   "metadata": {
    "collapsed": false,
    "pycharm": {
     "name": "#%%\n"
    }
   }
  },
  {
   "cell_type": "code",
   "execution_count": 47,
   "outputs": [
    {
     "data": {
      "text/plain": "Y    94\nName: vine, dtype: int64"
     },
     "execution_count": 47,
     "metadata": {},
     "output_type": "execute_result"
    }
   ],
   "source": [
    "# create a dataframe where we filter to only vine reviews\n",
    "vine_reviews_df = greater_50_df[greater_50_df.vine == 'Y']\n",
    "vine_reviews_df.vine.value_counts()"
   ],
   "metadata": {
    "collapsed": false,
    "pycharm": {
     "name": "#%%\n"
    }
   }
  },
  {
   "cell_type": "code",
   "execution_count": 46,
   "outputs": [
    {
     "data": {
      "text/plain": "N    40471\nName: vine, dtype: int64"
     },
     "execution_count": 46,
     "metadata": {},
     "output_type": "execute_result"
    }
   ],
   "source": [
    "# create a dataframe where we filter to only non vine reviews\n",
    "unpaid_reviews_df = greater_50_df[greater_50_df.vine == 'N']\n",
    "unpaid_reviews_df.vine.value_counts()"
   ],
   "metadata": {
    "collapsed": false,
    "pycharm": {
     "name": "#%%\n"
    }
   }
  },
  {
   "cell_type": "code",
   "execution_count": 77,
   "outputs": [
    {
     "name": "stdout",
     "output_type": "stream",
     "text": [
      "The total number of vine reviews is 94\n",
      "the total number of 5 star vine reviews is 48\n",
      "The percentage of 5-star vine reviews is 51%\n"
     ]
    }
   ],
   "source": [
    "# Determine the total number of reviews, the number of 5-star reviews, and the percentage of 5 star reviews for vine reviews\n",
    "\n",
    "total_vine_star=(vine_reviews_df.star_rating.count())\n",
    "total_5_star = (vine_reviews_df.star_rating[vine_reviews_df.star_rating == 5].count())\n",
    "percentage_5_star = round((total_5_star/total_vine_star)*100)\n",
    "print(f'The total number of vine reviews is {total_vine_star}')\n",
    "print(f'the total number of 5 star vine reviews is {total_5_star}')\n",
    "print(f'The percentage of 5-star vine reviews is {percentage_5_star}%')\n",
    "\n",
    "\n"
   ],
   "metadata": {
    "collapsed": false,
    "pycharm": {
     "name": "#%%\n"
    }
   }
  },
  {
   "cell_type": "code",
   "execution_count": 78,
   "outputs": [
    {
     "name": "stdout",
     "output_type": "stream",
     "text": [
      "The total number of vine reviews is 40471\n",
      "the total number of 5 star vine reviews is 15663\n",
      "The percentage of 5-star vine reviews is 39%\n"
     ]
    }
   ],
   "source": [
    "# Determine the total number of reviews, the number of 5-star reviews, and the percentage of 5 star reviews for non-vine reviews\n",
    "\n",
    "total_unpaid_star=(unpaid_reviews_df.star_rating.count())\n",
    "total_unpaid_5_star = (unpaid_reviews_df.star_rating[unpaid_reviews_df.star_rating == 5].count())\n",
    "percentage_unpaid_5_star = round((total_unpaid_5_star/total_unpaid_star)*100)\n",
    "print(f'The total number of vine reviews is {total_unpaid_star}')\n",
    "print(f'the total number of 5 star vine reviews is {total_unpaid_5_star}')\n",
    "print(f'The percentage of 5-star vine reviews is {percentage_unpaid_5_star}%')"
   ],
   "metadata": {
    "collapsed": false,
    "pycharm": {
     "name": "#%%\n"
    }
   }
  },
  {
   "cell_type": "code",
   "execution_count": null,
   "outputs": [],
   "source": [],
   "metadata": {
    "collapsed": false,
    "pycharm": {
     "name": "#%%\n"
    }
   }
  }
 ],
 "metadata": {
  "kernelspec": {
   "display_name": "Python 3",
   "language": "python",
   "name": "python3"
  },
  "language_info": {
   "codemirror_mode": {
    "name": "ipython",
    "version": 2
   },
   "file_extension": ".py",
   "mimetype": "text/x-python",
   "name": "python",
   "nbconvert_exporter": "python",
   "pygments_lexer": "ipython2",
   "version": "2.7.6"
  }
 },
 "nbformat": 4,
 "nbformat_minor": 0
}